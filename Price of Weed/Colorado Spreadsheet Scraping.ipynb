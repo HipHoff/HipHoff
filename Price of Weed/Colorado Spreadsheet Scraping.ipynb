{
 "cells": [
  {
   "cell_type": "code",
   "execution_count": 1,
   "metadata": {
    "collapsed": true
   },
   "outputs": [],
   "source": [
    "import os\n",
    "import glob\n",
    "\n",
    "from bs4 import BeautifulSoup\n",
    "from openpyxl import load_workbook\n",
    "import pandas as pd\n",
    "import requests\n",
    "import wget\n",
    "import urllib.request\n",
    "\n",
    "%matplotlib inline\n",
    "import seaborn as sns; sns.set()\n",
    "import matplotlib as mpl\n",
    "import matplotlib.pyplot as plt\n",
    "#Enlargen\n",
    "sns.set_context('poster')\n",
    "\n",
    "plt.style.use('fivethirtyeight')"
   ]
  },
  {
   "cell_type": "code",
   "execution_count": 2,
   "metadata": {
    "collapsed": true
   },
   "outputs": [],
   "source": [
    "r = requests.get('https://www.colorado.gov/pacific/revenue/marijuana-tax-data-archive')\n",
    "soup = BeautifulSoup(r.text, \"lxml\")\n",
    "\n",
    "anchor_tags = soup.findAll('div','fieldset-wrapper')[1].findAll('a')\n",
    "\n",
    "links = [tag['href'] for tag in anchor_tags]"
   ]
  },
  {
   "cell_type": "code",
   "execution_count": 3,
   "metadata": {
    "collapsed": true
   },
   "outputs": [],
   "source": [
    "def download_if_needed(link):\n",
    "    \"\"\"\n",
    "    Download pdf file at link if not already downloaded, returning the filename\n",
    "    \"\"\"\n",
    "    filename = os.path.basename(urllib.request.unquote(link))\n",
    "    if not os.path.exists('excels/{}'.format(filename)):\n",
    "        #wget needs percent encoding to go away\n",
    "        wget.download(urllib.request.unquote(link), out='excels/')\n",
    "    return filename"
   ]
  },
  {
   "cell_type": "code",
   "execution_count": 4,
   "metadata": {
    "collapsed": true
   },
   "outputs": [],
   "source": [
    "def get_year_month(filename):\n",
    "    date_code = os.path.basename(filename)[:4]\n",
    "    date_code = '20{year}-{month}'.format(year=date_code[2:4],month=date_code[0:2])\n",
    "    return date_code"
   ]
  },
  {
   "cell_type": "code",
   "execution_count": 5,
   "metadata": {
    "collapsed": true
   },
   "outputs": [],
   "source": [
    "def create_df_from_file(file):\n",
    "    wb = load_workbook(file)\n",
    "    ws = wb.get_sheet_by_name(wb.get_sheet_names()[0])\n",
    "    \n",
    "    df = pd.DataFrame()\n",
    "\n",
    "    row = 6\n",
    "    while row < 100:\n",
    "\n",
    "        county = ws['A{}'.format(row)].value\n",
    "\n",
    "        if 'Totals' in county:\n",
    "            break\n",
    "        if 'Remainder of' in county:\n",
    "            county = 'Other Counties'\n",
    "        if county.lower() == 'route':\n",
    "            county = 'Routt'\n",
    "        df.loc[county,'Medical Marijuana'] = ws['B{}'.format(row)].value\n",
    "        row +=1\n",
    "    \n",
    "    row = 6\n",
    "    while row < 100:\n",
    "        county = ws['D{}'.format(row)].value\n",
    "\n",
    "        if 'Totals' in county:\n",
    "            break\n",
    "        if 'Remainder of' in county:\n",
    "            county = 'Other Counties'\n",
    "        if county.lower() == 'route':\n",
    "            print('Success')\n",
    "            county = 'Routt'\n",
    "        df.loc[county,'Retail Sales Tax'] = ws['E{}'.format(row)].value\n",
    "        df.loc[county,'Additional Retail Sales Tax'] = ws['F{}'.format(row)].value\n",
    "\n",
    "        row +=1\n",
    "        \n",
    "    df.index.name = 'County'\n",
    "    \n",
    "    df['Month'] = get_year_month(file.name)\n",
    "    df['Month'] = pd.DatetimeIndex(df['Month'])\n",
    "    \n",
    "    return df"
   ]
  },
  {
   "cell_type": "code",
   "execution_count": 6,
   "metadata": {
    "collapsed": false
   },
   "outputs": [
    {
     "name": "stderr",
     "output_type": "stream",
     "text": [
      "//anaconda/lib/python3.5/site-packages/openpyxl/workbook/names/named_range.py:124: UserWarning: Discarded range with reserved name\n",
      "  warnings.warn(\"Discarded range with reserved name\")\n"
     ]
    },
    {
     "name": "stdout",
     "output_type": "stream",
     "text": [
      "Success\n"
     ]
    }
   ],
   "source": [
    "dfs = []\n",
    "\n",
    "for link in links:\n",
    "    filename = download_if_needed(link)\n",
    "    \n",
    "    with open('excels/{}'.format(filename),'rb') as file:\n",
    "        df = create_df_from_file(file)\n",
    "        dfs.append(df)\n",
    "    \n",
    "df = pd.concat(dfs)\n",
    "df.fillna(0, inplace=True)"
   ]
  },
  {
   "cell_type": "code",
   "execution_count": 7,
   "metadata": {
    "collapsed": false
   },
   "outputs": [
    {
     "data": {
      "text/html": [
       "<div>\n",
       "<table border=\"1\" class=\"dataframe\">\n",
       "  <thead>\n",
       "    <tr style=\"text-align: right;\">\n",
       "      <th></th>\n",
       "      <th>Medical Marijuana</th>\n",
       "      <th>Retail Sales Tax</th>\n",
       "      <th>Additional Retail Sales Tax</th>\n",
       "      <th>Month</th>\n",
       "    </tr>\n",
       "    <tr>\n",
       "      <th>County</th>\n",
       "      <th></th>\n",
       "      <th></th>\n",
       "      <th></th>\n",
       "      <th></th>\n",
       "    </tr>\n",
       "  </thead>\n",
       "  <tbody>\n",
       "    <tr>\n",
       "      <th>Adams</th>\n",
       "      <td>8304</td>\n",
       "      <td>13092</td>\n",
       "      <td>29053</td>\n",
       "      <td>2015-01-01</td>\n",
       "    </tr>\n",
       "    <tr>\n",
       "      <th>Arapahoe</th>\n",
       "      <td>25572</td>\n",
       "      <td>53858</td>\n",
       "      <td>135531</td>\n",
       "      <td>2015-01-01</td>\n",
       "    </tr>\n",
       "    <tr>\n",
       "      <th>Boulder</th>\n",
       "      <td>64260</td>\n",
       "      <td>109224</td>\n",
       "      <td>323530</td>\n",
       "      <td>2015-01-01</td>\n",
       "    </tr>\n",
       "    <tr>\n",
       "      <th>Clear Creek</th>\n",
       "      <td>2117</td>\n",
       "      <td>12583</td>\n",
       "      <td>35220</td>\n",
       "      <td>2015-01-01</td>\n",
       "    </tr>\n",
       "    <tr>\n",
       "      <th>Denver</th>\n",
       "      <td>363061</td>\n",
       "      <td>423513</td>\n",
       "      <td>1241631</td>\n",
       "      <td>2015-01-01</td>\n",
       "    </tr>\n",
       "  </tbody>\n",
       "</table>\n",
       "</div>"
      ],
      "text/plain": [
       "             Medical Marijuana  Retail Sales Tax  Additional Retail Sales Tax  \\\n",
       "County                                                                          \n",
       "Adams                     8304             13092                        29053   \n",
       "Arapahoe                 25572             53858                       135531   \n",
       "Boulder                  64260            109224                       323530   \n",
       "Clear Creek               2117             12583                        35220   \n",
       "Denver                  363061            423513                      1241631   \n",
       "\n",
       "                 Month  \n",
       "County                  \n",
       "Adams       2015-01-01  \n",
       "Arapahoe    2015-01-01  \n",
       "Boulder     2015-01-01  \n",
       "Clear Creek 2015-01-01  \n",
       "Denver      2015-01-01  "
      ]
     },
     "execution_count": 7,
     "metadata": {},
     "output_type": "execute_result"
    }
   ],
   "source": [
    "df.head()"
   ]
  },
  {
   "cell_type": "code",
   "execution_count": 8,
   "metadata": {
    "collapsed": false
   },
   "outputs": [],
   "source": [
    "df.pivot(columns='Month',values='Medical Marijuana').fillna(0).to_csv('Medical_time_series.csv')\n",
    "df.pivot(columns='Month',values='Retail Sales Tax').fillna(0).to_csv('Retail_time_series.csv')\n",
    "df.pivot(columns='Month',values='Additional Retail Sales Tax').fillna(0).to_csv('Additional_retail_time_series.csv')\n"
   ]
  },
  {
   "cell_type": "code",
   "execution_count": 9,
   "metadata": {
    "collapsed": false
   },
   "outputs": [],
   "source": [
    "df = df.reset_index().set_index(['County','Month'])"
   ]
  },
  {
   "cell_type": "code",
   "execution_count": 10,
   "metadata": {
    "collapsed": false
   },
   "outputs": [],
   "source": [
    "total_df = pd.DataFrame(df.sum(axis=1))"
   ]
  },
  {
   "cell_type": "code",
   "execution_count": 11,
   "metadata": {
    "collapsed": false
   },
   "outputs": [],
   "source": [
    "total_df.reset_index(inplace=True)"
   ]
  },
  {
   "cell_type": "code",
   "execution_count": 12,
   "metadata": {
    "collapsed": false
   },
   "outputs": [
    {
     "data": {
      "text/plain": [
       "Index(['County', 'Month', 0], dtype='object')"
      ]
     },
     "execution_count": 12,
     "metadata": {},
     "output_type": "execute_result"
    }
   ],
   "source": [
    "total_df.columns"
   ]
  },
  {
   "cell_type": "code",
   "execution_count": 13,
   "metadata": {
    "collapsed": false
   },
   "outputs": [],
   "source": [
    "total_df.pivot(index='County',columns='Month',values=0).fillna(0).to_csv('Total_time_series.csv')"
   ]
  }
 ],
 "metadata": {
  "kernelspec": {
   "display_name": "Python 3",
   "language": "python",
   "name": "python3"
  },
  "language_info": {
   "codemirror_mode": {
    "name": "ipython",
    "version": 3
   },
   "file_extension": ".py",
   "mimetype": "text/x-python",
   "name": "python",
   "nbconvert_exporter": "python",
   "pygments_lexer": "ipython3",
   "version": "3.5.1"
  }
 },
 "nbformat": 4,
 "nbformat_minor": 0
}
