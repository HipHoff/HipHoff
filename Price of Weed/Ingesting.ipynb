{
 "cells": [
  {
   "cell_type": "code",
   "execution_count": 26,
   "metadata": {
    "collapsed": false
   },
   "outputs": [],
   "source": [
    "import os\n",
    "import pandas as pd\n",
    "import numpy as np\n",
    "import datetime"
   ]
  },
  {
   "cell_type": "code",
   "execution_count": 27,
   "metadata": {
    "collapsed": false
   },
   "outputs": [],
   "source": [
    "#Switch to local director with csvs\n",
    "os.chdir('/Users/matthoffman/Repos/Weed/price-of-weed')"
   ]
  },
  {
   "cell_type": "code",
   "execution_count": 28,
   "metadata": {
    "collapsed": false
   },
   "outputs": [],
   "source": [
    "#Pull list of all CSV files; note: this could be refactored with glob\n",
    "\n",
    "files = pd.Series(os.listdir('data'))\n",
    "boolean = ['.csv' in x for x in files]\n",
    "csvfiles = files[boolean].values\n",
    "\n",
    "def extract_date(filename):\n",
    "    return datetime.date(int(filename[14:18]), int(filename[12:14]), int(filename[10:12]))\n",
    "\n",
    "def concat_dfs(filenames):\n",
    "    files = []\n",
    "    for filename in filenames:\n",
    "        df = pd.read_csv('data/' + filename)\n",
    "        df['Date'] = extract_date(filename)\n",
    "        df.set_index(['State', 'Date'], inplace=True)\n",
    "        files.append(df)\n",
    "    return pd.concat(files)\n",
    "\n",
    "def destringify(df,cols):\n",
    "    for col in cols:\n",
    "        df.ix[:,col] = [float(str(x).replace('$','')) for x in df[col].values]"
   ]
  },
  {
   "cell_type": "code",
   "execution_count": 29,
   "metadata": {
    "collapsed": true
   },
   "outputs": [],
   "source": [
    "df = concat_dfs(csvfiles)"
   ]
  },
  {
   "cell_type": "code",
   "execution_count": 30,
   "metadata": {
    "collapsed": false
   },
   "outputs": [],
   "source": [
    "#Remove State and Date indexes until can figure out how to groupby with multiindex (easy once it's multiindexed)\n",
    "df.reset_index(inplace=True)"
   ]
  },
  {
   "cell_type": "code",
   "execution_count": 31,
   "metadata": {
    "collapsed": false
   },
   "outputs": [],
   "source": [
    "df['LowQ'].replace('I feel bad for these guys -->', np.nan, inplace=True)"
   ]
  },
  {
   "cell_type": "code",
   "execution_count": 32,
   "metadata": {
    "collapsed": false
   },
   "outputs": [],
   "source": [
    "#Remove occasional $s\n",
    "destringify(df,['HighQ','MedQ','LowQ'])"
   ]
  },
  {
   "cell_type": "code",
   "execution_count": 33,
   "metadata": {
    "collapsed": false
   },
   "outputs": [],
   "source": [
    "#Use median to prevent outlier influence\n",
    "avgstateprices = df.groupby('State').aggregate(np.median)"
   ]
  },
  {
   "cell_type": "code",
   "execution_count": 34,
   "metadata": {
    "collapsed": false
   },
   "outputs": [],
   "source": [
    "#Adjust for odd outlier to round down state with more expensive low quality weed to the most expensive state that seems \"reasonable\"\n",
    "avgstateprices.sort(columns='LowQ',ascending=False)\n",
    "avgstateprices.loc[['Montana','New Hampshire','Alaska'],'LowQ'] = avgstateprices.loc['North Dakota','LowQ']"
   ]
  },
  {
   "cell_type": "code",
   "execution_count": 35,
   "metadata": {
    "collapsed": false
   },
   "outputs": [],
   "source": [
    "os.chdir('/Users/matthoffman/Repos/Weed/Price-of-Weed-D3-Map')\n",
    "avgstateprices.to_csv('Average Prices.csv')"
   ]
  }
 ],
 "metadata": {
  "kernelspec": {
   "display_name": "Python 2",
   "language": "python",
   "name": "python2"
  },
  "language_info": {
   "codemirror_mode": {
    "name": "ipython",
    "version": 2
   },
   "file_extension": ".py",
   "mimetype": "text/x-python",
   "name": "python",
   "nbconvert_exporter": "python",
   "pygments_lexer": "ipython2",
   "version": "2.7.10"
  }
 },
 "nbformat": 4,
 "nbformat_minor": 0
}
