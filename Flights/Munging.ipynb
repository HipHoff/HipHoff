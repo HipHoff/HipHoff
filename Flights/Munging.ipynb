{
 "cells": [
  {
   "cell_type": "code",
   "execution_count": 1,
   "metadata": {
    "collapsed": true
   },
   "outputs": [],
   "source": [
    "import glob\n",
    "import pandas as pd\n",
    "\n",
    "csvs = glob.glob('*T_ONTIME*.csv')\n",
    "\n",
    "dfs = []\n",
    "for file in csvs:\n",
    "    dfs.append(pd.read_csv(file,parse_dates=['FL_DATE']))\n",
    "    \n",
    "df = pd.concat(dfs)\n",
    "\n",
    "df['Month'] = [x.month for x in df['FL_DATE']]\n",
    "df['Date'] = [x.day for x in df['FL_DATE']]\n",
    "df['Year'] = [x.year for x in df['FL_DATE']]\n",
    "\n",
    "df.head()\n",
    "\n",
    "pd.DataFrame(df.groupby(['Month','Date','Year'])['ARR_DEL15'].mean()).to_csv('Percent Flights Delayed.csv')"
   ]
  }
 ],
 "metadata": {
  "kernelspec": {
   "display_name": "Python 3",
   "language": "python",
   "name": "python3"
  },
  "language_info": {
   "codemirror_mode": {
    "name": "ipython",
    "version": 3
   },
   "file_extension": ".py",
   "mimetype": "text/x-python",
   "name": "python",
   "nbconvert_exporter": "python",
   "pygments_lexer": "ipython3",
   "version": "3.5.0"
  }
 },
 "nbformat": 4,
 "nbformat_minor": 0
}
