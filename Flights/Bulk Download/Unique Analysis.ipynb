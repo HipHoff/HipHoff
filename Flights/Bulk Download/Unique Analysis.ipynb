{
 "cells": [
  {
   "cell_type": "code",
   "execution_count": 1,
   "metadata": {
    "collapsed": true
   },
   "outputs": [],
   "source": [
    "import pandas as pd"
   ]
  },
  {
   "cell_type": "code",
   "execution_count": 2,
   "metadata": {
    "collapsed": false
   },
   "outputs": [],
   "source": [
    "df = pd.read_csv('By State Average Delay.csv')"
   ]
  },
  {
   "cell_type": "code",
   "execution_count": 3,
   "metadata": {
    "collapsed": false
   },
   "outputs": [],
   "source": [
    "df.columns = ['State','Month','Date','Delay']"
   ]
  },
  {
   "cell_type": "code",
   "execution_count": 4,
   "metadata": {
    "collapsed": false
   },
   "outputs": [],
   "source": [
    "#Note how this is a one-state = one vote average, which prevents unique from being biases to smaller states\n",
    "\n",
    "average = df.groupby(['Month','Date'])['Delay'].mean()"
   ]
  },
  {
   "cell_type": "code",
   "execution_count": 5,
   "metadata": {
    "collapsed": false
   },
   "outputs": [],
   "source": [
    "df['Average'] = [average[month][date] for month, date in zip(df['Month'],df['Date'])]"
   ]
  },
  {
   "cell_type": "code",
   "execution_count": 6,
   "metadata": {
    "collapsed": false
   },
   "outputs": [],
   "source": [
    "state_avg = df.groupby('State')['Delay'].mean()"
   ]
  },
  {
   "cell_type": "code",
   "execution_count": 7,
   "metadata": {
    "collapsed": false
   },
   "outputs": [],
   "source": [
    "df['State Average'] = [state_avg[x] for x in df['State']]"
   ]
  },
  {
   "cell_type": "code",
   "execution_count": 10,
   "metadata": {
    "collapsed": false
   },
   "outputs": [],
   "source": [
    "df['Average Demeaned'] = df['Average'] - df['Average'].mean()"
   ]
  },
  {
   "cell_type": "code",
   "execution_count": 14,
   "metadata": {
    "collapsed": false
   },
   "outputs": [],
   "source": [
    "df['Off Trend Delay'] = df['Delay'] - df['State Average']"
   ]
  },
  {
   "cell_type": "code",
   "execution_count": 15,
   "metadata": {
    "collapsed": true
   },
   "outputs": [],
   "source": [
    "df['Detrend Resid'] = df['SqResid'] = [(x-y)**2 for x,y in zip(df['Off Trend Delay'],df['Average Demeaned'])]"
   ]
  },
  {
   "cell_type": "code",
   "execution_count": 16,
   "metadata": {
    "collapsed": true
   },
   "outputs": [],
   "source": [
    "uniquesdetrended = df.groupby('State')['Detrend Resid'].sum()"
   ]
  },
  {
   "cell_type": "code",
   "execution_count": 17,
   "metadata": {
    "collapsed": false
   },
   "outputs": [
    {
     "data": {
      "text/plain": [
       "State\n",
       "DE    18.828933\n",
       "TT     1.660869\n",
       "WY     0.873792\n",
       "AK     0.537644\n",
       "VI     0.427728\n",
       "MT     0.395175\n",
       "WV     0.380219\n",
       "VT     0.375786\n",
       "UT     0.357838\n",
       "ID     0.357176\n",
       "HI     0.336911\n",
       "PR     0.320385\n",
       "GA     0.306218\n",
       "ND     0.301504\n",
       "NJ     0.299738\n",
       "CO     0.257565\n",
       "ME     0.242396\n",
       "MS     0.242143\n",
       "IL     0.227071\n",
       "IA     0.211346\n",
       "FL     0.207756\n",
       "SD     0.203426\n",
       "NH     0.201864\n",
       "MA     0.201165\n",
       "TX     0.196182\n",
       "MD     0.190856\n",
       "KS     0.172590\n",
       "SC     0.169744\n",
       "AR     0.169573\n",
       "MN     0.166634\n",
       "LA     0.161004\n",
       "WI     0.160876\n",
       "WA     0.158984\n",
       "NY     0.157507\n",
       "OR     0.157161\n",
       "NC     0.156188\n",
       "MO     0.154872\n",
       "VA     0.153704\n",
       "PA     0.150461\n",
       "MI     0.146677\n",
       "AL     0.144461\n",
       "RI     0.137311\n",
       "NV     0.134358\n",
       "NM     0.134034\n",
       "NE     0.131093\n",
       "OK     0.126723\n",
       "CT     0.126233\n",
       "KY     0.119994\n",
       "AZ     0.112351\n",
       "CA     0.107931\n",
       "OH     0.081905\n",
       "IN     0.074830\n",
       "TN     0.065013\n",
       "Name: Detrend Resid, dtype: float64"
      ]
     },
     "execution_count": 17,
     "metadata": {},
     "output_type": "execute_result"
    }
   ],
   "source": [
    "uniquesdetrended.sort_values(ascending=False)"
   ]
  },
  {
   "cell_type": "code",
   "execution_count": null,
   "metadata": {
    "collapsed": true
   },
   "outputs": [],
   "source": []
  },
  {
   "cell_type": "code",
   "execution_count": null,
   "metadata": {
    "collapsed": true
   },
   "outputs": [],
   "source": []
  },
  {
   "cell_type": "code",
   "execution_count": null,
   "metadata": {
    "collapsed": false
   },
   "outputs": [],
   "source": [
    "df['SqResid'] = [(x-y)**2 for x,y in zip(df['Delay'],df['Average'])]"
   ]
  },
  {
   "cell_type": "code",
   "execution_count": null,
   "metadata": {
    "collapsed": false
   },
   "outputs": [],
   "source": [
    "df[df['State'] == 'TT']"
   ]
  },
  {
   "cell_type": "code",
   "execution_count": null,
   "metadata": {
    "collapsed": true
   },
   "outputs": [],
   "source": []
  },
  {
   "cell_type": "code",
   "execution_count": null,
   "metadata": {
    "collapsed": false
   },
   "outputs": [],
   "source": [
    "summedunique = df.groupby('State')['SqResid'].sum()"
   ]
  },
  {
   "cell_type": "code",
   "execution_count": null,
   "metadata": {
    "collapsed": false
   },
   "outputs": [],
   "source": [
    "pd.Series(summedunique).sort_values(ascending=False)"
   ]
  },
  {
   "cell_type": "code",
   "execution_count": null,
   "metadata": {
    "collapsed": false
   },
   "outputs": [],
   "source": [
    "df.shape"
   ]
  },
  {
   "cell_type": "code",
   "execution_count": null,
   "metadata": {
    "collapsed": false
   },
   "outputs": [],
   "source": [
    "selector = [x in {'NJ','HI','MT','IL','ID','OH','IN'} for x in df['State']]"
   ]
  },
  {
   "cell_type": "code",
   "execution_count": null,
   "metadata": {
    "collapsed": false
   },
   "outputs": [],
   "source": [
    "uniques = df.loc[selector,['State','Month','Date','Delay']]\n",
    "\n",
    "uniques.set_index(['Month','Date'],inplace=True)\n",
    "\n",
    "uniques = uniques.pivot(columns='State')\n",
    "\n",
    "uniques[('Average','')] = average\n",
    "\n",
    "uniques.reset_index(inplace=True)\n",
    "\n",
    "def fixcolumns(columns):\n",
    "    new_columns = []\n",
    "    for x,y in columns:\n",
    "        if y=='':\n",
    "            new_columns.append(x)\n",
    "        else:\n",
    "            new_columns.append(y)\n",
    "    return new_columns\n",
    "\n",
    "uniques.columns = fixcolumns(uniques.columns)\n",
    "\n",
    "uniques['Date'] = ['2014-' + str(x) + '-' + str(y) for x,y in zip(uniques['Month'],uniques['Date'])]\n",
    "\n",
    "del uniques['Month']\n",
    "\n",
    "uniques.to_csv('Unique States.csv',index=False)"
   ]
  },
  {
   "cell_type": "code",
   "execution_count": 19,
   "metadata": {
    "collapsed": true
   },
   "outputs": [],
   "source": [
    "newselector = [x in {'WY','AK','VI','MT','WV','VT'} for x in df['State']]"
   ]
  },
  {
   "cell_type": "code",
   "execution_count": 20,
   "metadata": {
    "collapsed": true
   },
   "outputs": [],
   "source": [
    "uniques = df.loc[newselector,['State','Month','Date','Delay']]\n",
    "\n",
    "uniques.set_index(['Month','Date'],inplace=True)\n",
    "\n",
    "uniques = uniques.pivot(columns='State')\n",
    "\n",
    "uniques[('Average','')] = average\n",
    "\n",
    "uniques.reset_index(inplace=True)\n",
    "\n",
    "def fixcolumns(columns):\n",
    "    new_columns = []\n",
    "    for x,y in columns:\n",
    "        if y=='':\n",
    "            new_columns.append(x)\n",
    "        else:\n",
    "            new_columns.append(y)\n",
    "    return new_columns\n",
    "\n",
    "uniques.columns = fixcolumns(uniques.columns)\n",
    "\n",
    "uniques['Date'] = ['2014-' + str(x) + '-' + str(y) for x,y in zip(uniques['Month'],uniques['Date'])]\n",
    "\n",
    "del uniques['Month']\n",
    "\n",
    "uniques.to_csv('Unique States Demeanded.csv',index=False)"
   ]
  }
 ],
 "metadata": {
  "kernelspec": {
   "display_name": "Python 3",
   "language": "python",
   "name": "python3"
  },
  "language_info": {
   "codemirror_mode": {
    "name": "ipython",
    "version": 3
   },
   "file_extension": ".py",
   "mimetype": "text/x-python",
   "name": "python",
   "nbconvert_exporter": "python",
   "pygments_lexer": "ipython3",
   "version": "3.5.0"
  }
 },
 "nbformat": 4,
 "nbformat_minor": 0
}
